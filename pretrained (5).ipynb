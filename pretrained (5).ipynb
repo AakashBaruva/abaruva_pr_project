{
  "cells": [
    {
      "cell_type": "code",
      "execution_count": 164,
      "metadata": {
        "colab": {
          "base_uri": "https://localhost:8080/"
        },
        "id": "nsKMWHONNmqp",
        "outputId": "dbc12997-23e0-4c5d-9dc6-bef6b9e4d570"
      },
      "outputs": [
        {
          "output_type": "stream",
          "name": "stdout",
          "text": [
            "Requirement already satisfied: xmltodict in /usr/local/lib/python3.10/dist-packages (0.13.0)\n",
            "Collecting torchinfo\n",
            "  Downloading torchinfo-1.8.0-py3-none-any.whl (23 kB)\n",
            "Installing collected packages: torchinfo\n",
            "Successfully installed torchinfo-1.8.0\n"
          ]
        }
      ],
      "source": [
        "import torch\n",
        "from torch import nn\n",
        "import torchvision\n",
        "from pathlib import Path\n",
        "import zipfile\n",
        "import numpy as np\n",
        "import pandas as pd\n",
        "import matplotlib.pyplot as plt\n",
        "import matplotlib.patches as mpatches\n",
        "import os\n",
        "import time\n",
        "import xml.etree.ElementTree as ET\n",
        "import glob\n",
        "import random\n",
        "import shutil\n",
        "!pip install xmltodict\n",
        "import xmltodict\n",
        "from torch.utils.data import DataLoader\n",
        "from torchvision import datasets, transforms\n",
        "from torch.utils.data import Dataset\n",
        "from timeit import default_timer as timer\n",
        "from typing import Tuple, Dict, List\n",
        "from PIL import Image\n",
        "import torchvision\n",
        "from matplotlib import patches\n",
        "from torch.utils.data import Dataset, DataLoader\n",
        "from torchvision.transforms.functional import to_tensor\n",
        "import torchvision.transforms.functional as F\n",
        "from torchvision.utils import draw_bounding_boxes\n",
        "from torchvision.transforms.functional import to_tensor\n",
        "from matplotlib import patches\n",
        "from torchvision.utils import make_grid\n",
        "from torchvision.io import read_image\n",
        "from tqdm.auto import tqdm\n",
        "from PIL import Image\n",
        "from xml.etree import ElementTree as ET\n",
        "import torchvision.ops as ops\n",
        "from torchvision.transforms import Compose\n",
        "try:\n",
        "    import torchmetrics, mlxtend\n",
        "    assert int(mlxtend.__version__.split(\".\")[1]) >= 19\n",
        "except:\n",
        "    !pip install -q torchmetrics -U mlxtend\n",
        "    import torchmetrics, mlxtend\n",
        "from torchmetrics import ConfusionMatrix\n",
        "from mlxtend.plotting import plot_confusion_matrix\n",
        "from torchvision.io.image import read_image\n",
        "from torchvision.utils import draw_bounding_boxes\n",
        "from torchvision.transforms.functional import to_pil_image\n",
        "import matplotlib.pyplot as plt\n",
        "try:\n",
        "    import torchinfo\n",
        "except:\n",
        "    !pip install torchinfo\n",
        "    import torchinfo\n",
        "\n",
        "from torchinfo import summary"
      ]
    },
    {
      "cell_type": "code",
      "source": [
        "device = \"cuda\" if torch.cuda.is_available() else \"cpu\"\n",
        "device"
      ],
      "metadata": {
        "colab": {
          "base_uri": "https://localhost:8080/",
          "height": 36
        },
        "id": "u7jzrL0hcqtc",
        "outputId": "2bba4680-4ea4-4647-b4ea-fa87fc3f3be8"
      },
      "execution_count": 165,
      "outputs": [
        {
          "output_type": "execute_result",
          "data": {
            "text/plain": [
              "'cuda'"
            ],
            "application/vnd.google.colaboratory.intrinsic+json": {
              "type": "string"
            }
          },
          "metadata": {},
          "execution_count": 165
        }
      ]
    },
    {
      "cell_type": "code",
      "execution_count": 166,
      "metadata": {
        "colab": {
          "base_uri": "https://localhost:8080/"
        },
        "id": "4pyDl_4mNzSz",
        "outputId": "d5e6bba0-41b4-47a5-cc02-f92a036ed1f6"
      },
      "outputs": [
        {
          "output_type": "stream",
          "name": "stdout",
          "text": [
            "Drive already mounted at /content/drive; to attempt to forcibly remount, call drive.mount(\"/content/drive\", force_remount=True).\n",
            "Directory exists.\n"
          ]
        }
      ],
      "source": [
        "from google.colab import drive\n",
        "drive = drive.mount('/content/drive')\n",
        "data_path = Path(\"data/\")\n",
        "if data_path.is_dir():\n",
        "    print(\"Directory exists.\")\n",
        "else:\n",
        "    data_path.mkdir(parents=True, exist_ok=True)\n",
        "    with zipfile.ZipFile('/content/drive/MyDrive/archive.zip', \"r\") as zip_ref:\n",
        "      print(\"Unzipping\")\n",
        "      zip_ref.extractall(data_path)"
      ]
    },
    {
      "cell_type": "code",
      "execution_count": 167,
      "metadata": {
        "id": "vhFRb9Fn-xNA"
      },
      "outputs": [],
      "source": [
        "class DataDictionary(Dataset):\n",
        "  def __init__(self, data_path, transform=None):\n",
        "      self.images_path = os.path.join(data_path, 'images')\n",
        "      self.annotations_path = os.path.join(data_path, 'annotations')\n",
        "      self.images_list = os.listdir(self.images_path)\n",
        "      self.images_list.sort()\n",
        "      self.transform = transform\n",
        "  def __len__(self):\n",
        "      return len(self.images_list)\n",
        "  def __getitem__(self, index):\n",
        "      images = os.path.join(self.images_path, f'maksssksksss{index}.png')\n",
        "      image = Image.open(images).convert(\"RGB\")\n",
        "      image = self.transform(image)\n",
        "      target = {}\n",
        "      annotations = os.path.join(self.annotations_path, f'maksssksksss{index}.xml')\n",
        "      tree = ET.parse(annotations)\n",
        "      root = tree.getroot()\n",
        "      boxes = []\n",
        "      labels = []\n",
        "      for annotations_object in root.findall('object'):\n",
        "          label = annotations_object.find('name').text\n",
        "          if label == 'with_mask':\n",
        "              labels.append(1)\n",
        "          elif label == 'without_mask':\n",
        "              labels.append(2)\n",
        "          elif label == 'mask_weared_incorrect':\n",
        "              labels.append(3)\n",
        "          bndbox = annotations_object.find('bndbox')\n",
        "          xmin = int(bndbox.find('xmin').text)\n",
        "          ymin = int(bndbox.find('ymin').text)\n",
        "          xmax = int(bndbox.find('xmax').text)\n",
        "          ymax = int(bndbox.find('ymax').text)\n",
        "          boxes.append([xmin, ymin, xmax, ymax])\n",
        "      boxes = torch.tensor(boxes, dtype=torch.float32)\n",
        "      labels = torch.tensor(labels)\n",
        "      target['boxes'] = boxes\n",
        "      target['labels'] = labels\n",
        "      return image, target"
      ]
    },
    {
      "cell_type": "code",
      "source": [
        "def to_tuple(batch):\n",
        "    return tuple(zip(*batch))"
      ],
      "metadata": {
        "id": "_ALnwBRrSAH-"
      },
      "execution_count": 168,
      "outputs": []
    },
    {
      "cell_type": "code",
      "execution_count": 169,
      "metadata": {
        "id": "p4RyDkKH-34h"
      },
      "outputs": [],
      "source": [
        "to_tensor = torchvision.transforms.Compose([\n",
        "    torchvision.transforms.ToTensor(),\n",
        "])"
      ]
    },
    {
      "cell_type": "code",
      "execution_count": 170,
      "metadata": {
        "id": "AgyEBdra-5Bs"
      },
      "outputs": [],
      "source": [
        "data_folder = '/content/data'\n",
        "tensor_dataset = DataDictionary(data_folder, transform=to_tensor)\n",
        "tensor_dataset_dataloader = DataLoader(tensor_dataset, batch_size=4, shuffle=True, num_workers=os.cpu_count(), collate_fn=to_tuple)"
      ]
    },
    {
      "cell_type": "code",
      "execution_count": 171,
      "metadata": {
        "colab": {
          "base_uri": "https://localhost:8080/"
        },
        "id": "MrCDQQBJ-6Dh",
        "outputId": "b4c051ce-3650-4976-88be-eb1ffdbfa56d"
      },
      "outputs": [
        {
          "output_type": "stream",
          "name": "stdout",
          "text": [
            "The shape of the input 3 dimensional tensor to the model is:  torch.Size([3, 400, 301])\n",
            "The input shape of the boxes and labels dictonary:  {'boxes': tensor([[ 94., 198., 189., 327.]]), 'labels': tensor([1])}\n"
          ]
        }
      ],
      "source": [
        "image_tensor, target_box_labels = next(iter(tensor_dataset_dataloader))\n",
        "print(\"The shape of the input 3 dimensional tensor to the model is: \",image_tensor[0].shape)\n",
        "print(\"The input shape of the boxes and labels dictonary: \",target_box_labels[0])"
      ]
    },
    {
      "cell_type": "code",
      "source": [
        "from sklearn.model_selection import train_test_split\n",
        "training_data, testing_data = train_test_split(tensor_dataset, test_size=0.20)\n",
        "print(\"Training data size is: \", len(training_data))\n",
        "print(\"Testing data size is: \", len(testing_data))"
      ],
      "metadata": {
        "colab": {
          "base_uri": "https://localhost:8080/"
        },
        "id": "_MY1fk-Bh1Ly",
        "outputId": "11e4d580-fa6f-45ac-d80a-af8658d32d58"
      },
      "execution_count": 172,
      "outputs": [
        {
          "output_type": "stream",
          "name": "stdout",
          "text": [
            "Training data size is:  682\n",
            "Testing data size is:  171\n"
          ]
        }
      ]
    },
    {
      "cell_type": "code",
      "execution_count": 173,
      "metadata": {
        "id": "OVrtee-G-8Ni"
      },
      "outputs": [],
      "source": [
        "def training_method(model: torch.nn.Module,\n",
        "               dataloader: torch.utils.data.DataLoader,\n",
        "               loss_function: torch.nn.Module,\n",
        "               optimizer: torch.optim.Optimizer):\n",
        "    model.train()\n",
        "    training_loss, training_accuracy = 0, 0\n",
        "    for batch, (images, targets) in enumerate(dataloader):\n",
        "        images = list([image.to(device) for image in images])\n",
        "        targets = [{dicts_targets: dict_targets.to(device) for dicts_targets, dict_targets in dicts_of_targets.items()} for dicts_of_targets in targets]\n",
        "        losses_dicts = model(images, targets)\n",
        "        losses = sum(loss for loss in losses_dicts.values())\n",
        "        optimizer.zero_grad()\n",
        "        losses.backward()\n",
        "        optimizer.step()\n",
        "    training_loss = losses\n",
        "    training_accuracy = training_accuracy / len(dataloader)\n",
        "    return training_loss, training_accuracy"
      ]
    },
    {
      "cell_type": "code",
      "execution_count": 174,
      "metadata": {
        "id": "VxpMgaJO-9Uc"
      },
      "outputs": [],
      "source": [
        "def testing_method(model: torch.nn.Module,\n",
        "              dataloader: None):\n",
        "  testing_loss, testing_accuracy = 0, 0\n",
        "  model.eval()\n",
        "  images, targets = next(iter(dataloader))\n",
        "  with torch.inference_mode():\n",
        "    images = list([image.to(device) for image in images])\n",
        "    outputs = model(images)\n",
        "  testing_loss = testing_loss / len(dataloader)\n",
        "  testing_accuracy = testing_accuracy / len(dataloader)\n",
        "  return testing_loss, testing_accuracy"
      ]
    },
    {
      "cell_type": "code",
      "execution_count": 175,
      "metadata": {
        "id": "ZgIKa230--46"
      },
      "outputs": [],
      "source": [
        "def train_method(model: torch.nn.Module,\n",
        "                 training_data_loader: torch.utils.data.DataLoader,\n",
        "                 testing_data_loader: torch.utils.data.DataLoader,\n",
        "                 optimizer: torch.optim.Optimizer,\n",
        "                 loss_function: torch.nn.Module,\n",
        "                 epochs: None):\n",
        "  results = {\"training_loss\": [],\"training_accuracy\": [],\"testing_loss\": [],\"testing_accuracy\": []}\n",
        "  for epoch in tqdm(range(epochs)):\n",
        "      training_loss, training_accuracy = training_method(model=model,dataloader=training_data_loader,loss_function=loss_function,optimizer=optimizer)\n",
        "      testing_loss, testing_accuracy = testing_method(model=model,dataloader=testing_data_loader)\n",
        "      print(f\"For Epoch: {epoch+1} | \"f\"training_loss: {training_loss} | \"f\"training_accuracy: {training_accuracy} | \"f\"testing_loss: {testing_loss} | \"f\"testing_accuracy: {testing_accuracy}\")\n",
        "      results[\"training_loss\"].append(training_loss)\n",
        "      results[\"training_accuracy\"].append(training_accuracy)\n",
        "      results[\"testing_loss\"].append(testing_loss)\n",
        "      results[\"testing_accuracy\"].append(testing_accuracy)\n",
        "  return results"
      ]
    },
    {
      "cell_type": "code",
      "source": [
        "def loss_accuracy_plot(results: Dict[str, List[float]]):\n",
        "    training_loss = results['training_loss']\n",
        "    testing_loss = results['testing_loss']\n",
        "    training_accuracy = results['training_accuracy']\n",
        "    testing_accuracy = results['testing_accuracy']\n",
        "    epochs = range(len(results['training_loss']))\n",
        "    plt.figure(figsize=(10, 10))\n",
        "    plt.subplot(1, 2, 1)\n",
        "    plt.plot(epochs, training_loss, label='training_loss')\n",
        "    plt.plot(epochs, testing_loss, label='testing_loss')\n",
        "    plt.title('Loss')\n",
        "    plt.xlabel('Epochs')\n",
        "    plt.legend()\n",
        "    plt.subplot(1, 2, 2)\n",
        "    plt.plot(epochs, training_accuracy, label='training_accuracy')\n",
        "    plt.plot(epochs, testing_accuracy, label='testing_accuracy')\n",
        "    plt.title('Accuracy')\n",
        "    plt.xlabel('Epochs')\n",
        "    plt.legend();"
      ],
      "metadata": {
        "id": "cY1DwUP6lRaS"
      },
      "execution_count": 176,
      "outputs": []
    },
    {
      "cell_type": "code",
      "source": [
        "def plot_image(model, image_path, class_names=['mask_weared_incorrect', 'with_mask', 'without_mask', 'background'], box_score_thresh=0.8):\n",
        "  img = read_image(image_path)\n",
        "  img_float = img.float() / 255\n",
        "  batch = [img_float.to(device)]\n",
        "  model6.eval()\n",
        "  with torch.no_grad():\n",
        "      prediction = model6(batch)[0]\n",
        "      print(prediction)\n",
        "  pred_labels = prediction[\"labels\"]\n",
        "  pred_scores = prediction[\"scores\"]\n",
        "  pred_boxes = prediction[\"boxes\"][pred_scores >= box_score_thresh]\n",
        "  pred_labels = pred_labels[pred_scores >= box_score_thresh]\n",
        "  labels = [class_names[i.item()] for i in pred_labels]\n",
        "  box = draw_bounding_boxes(img,boxes=pred_boxes,labels=labels,width=5, font_size=15)\n",
        "  im = to_pil_image(box.detach())\n",
        "  plt.imshow(im)\n",
        "  plt.axis('off')\n",
        "  plt.show()"
      ],
      "metadata": {
        "id": "tBNhRv5Lhdu_"
      },
      "execution_count": 177,
      "outputs": []
    },
    {
      "cell_type": "code",
      "execution_count": 178,
      "metadata": {
        "id": "ZUlvjjCA_ALU"
      },
      "outputs": [],
      "source": [
        "training_data_loader = DataLoader(training_data, batch_size=1, shuffle=True, num_workers=os.cpu_count(), collate_fn=to_tuple)\n",
        "testing_data_loader = DataLoader(testing_data, batch_size=1, shuffle=False, num_workers=os.cpu_count(), collate_fn=to_tuple)"
      ]
    },
    {
      "cell_type": "code",
      "source": [
        "class_names = ['mask_weared_incorrect', 'with_mask', 'without_mask', 'background']"
      ],
      "metadata": {
        "id": "Fqt9wNMd_06L"
      },
      "execution_count": 179,
      "outputs": []
    },
    {
      "cell_type": "code",
      "execution_count": 180,
      "metadata": {
        "colab": {
          "base_uri": "https://localhost:8080/"
        },
        "id": "lWEJNi7Q_Bcw",
        "outputId": "93af7cf6-3c68-426a-a6c8-df4597e3789f"
      },
      "outputs": [
        {
          "output_type": "stream",
          "name": "stdout",
          "text": [
            "Lenght of scores and labels before changing the num_classes 32 32 32\n"
          ]
        }
      ],
      "source": [
        "from torchvision.models.detection import fasterrcnn_resnet50_fpn, FasterRCNN_ResNet50_FPN_Weights\n",
        "from torchvision.models.detection.faster_rcnn import FastRCNNPredictor\n",
        "weights = FasterRCNN_ResNet50_FPN_Weights.DEFAULT\n",
        "transforms = weights.transforms()\n",
        "model6 = fasterrcnn_resnet50_fpn(weights=weights).to(device)\n",
        "images, targets = next(iter(training_data_loader))\n",
        "model6.eval()\n",
        "with torch.no_grad():\n",
        "  images = list([image.to(device) for image in images])\n",
        "  outputs = model6(images)\n",
        "  print(\"Lenght of scores and labels before changing the num_classes\", len(outputs[0]['boxes']), len(outputs[0]['scores']), len(outputs[0]['labels']))"
      ]
    },
    {
      "cell_type": "code",
      "source": [
        "num_classes = 4\n",
        "in_features = model6.roi_heads.box_predictor.cls_score.in_features\n",
        "model6.roi_heads.box_predictor = FastRCNNPredictor(in_features, num_classes)"
      ],
      "metadata": {
        "id": "VVGOBpa1Te98"
      },
      "execution_count": 181,
      "outputs": []
    },
    {
      "cell_type": "code",
      "source": [
        "summary(model6, input_size=[1, 3, 150, 150])"
      ],
      "metadata": {
        "colab": {
          "base_uri": "https://localhost:8080/"
        },
        "id": "MNpPVjxDZGek",
        "outputId": "d772dfb3-df24-48d1-d6f6-b5172d4c87b0"
      },
      "execution_count": 182,
      "outputs": [
        {
          "output_type": "execute_result",
          "data": {
            "text/plain": [
              "=========================================================================================================\n",
              "Layer (type:depth-idx)                                  Output Shape              Param #\n",
              "=========================================================================================================\n",
              "FasterRCNN                                              [100, 4]                  --\n",
              "├─GeneralizedRCNNTransform: 1-1                         [1, 3, 800, 800]          --\n",
              "├─BackboneWithFPN: 1-2                                  [1, 256, 13, 13]          --\n",
              "│    └─IntermediateLayerGetter: 2-1                     [1, 2048, 25, 25]         --\n",
              "│    │    └─Conv2d: 3-1                                 [1, 64, 400, 400]         (9,408)\n",
              "│    │    └─FrozenBatchNorm2d: 3-2                      [1, 64, 400, 400]         --\n",
              "│    │    └─ReLU: 3-3                                   [1, 64, 400, 400]         --\n",
              "│    │    └─MaxPool2d: 3-4                              [1, 64, 200, 200]         --\n",
              "│    │    └─Sequential: 3-5                             [1, 256, 200, 200]        (212,992)\n",
              "│    │    └─Sequential: 3-6                             [1, 512, 100, 100]        1,212,416\n",
              "│    │    └─Sequential: 3-7                             [1, 1024, 50, 50]         7,077,888\n",
              "│    │    └─Sequential: 3-8                             [1, 2048, 25, 25]         14,942,208\n",
              "│    └─FeaturePyramidNetwork: 2-2                       [1, 256, 13, 13]          --\n",
              "│    │    └─ModuleList: 3-15                            --                        (recursive)\n",
              "│    │    └─ModuleList: 3-16                            --                        (recursive)\n",
              "│    │    └─ModuleList: 3-15                            --                        (recursive)\n",
              "│    │    └─ModuleList: 3-16                            --                        (recursive)\n",
              "│    │    └─ModuleList: 3-15                            --                        (recursive)\n",
              "│    │    └─ModuleList: 3-16                            --                        (recursive)\n",
              "│    │    └─ModuleList: 3-15                            --                        (recursive)\n",
              "│    │    └─ModuleList: 3-16                            --                        (recursive)\n",
              "│    │    └─LastLevelMaxPool: 3-17                      [1, 256, 200, 200]        --\n",
              "├─RegionProposalNetwork: 1-3                            [1000, 4]                 --\n",
              "│    └─RPNHead: 2-3                                     [1, 3, 200, 200]          --\n",
              "│    │    └─Sequential: 3-18                            [1, 256, 200, 200]        590,080\n",
              "│    │    └─Conv2d: 3-19                                [1, 3, 200, 200]          771\n",
              "│    │    └─Conv2d: 3-20                                [1, 12, 200, 200]         3,084\n",
              "│    │    └─Sequential: 3-21                            [1, 256, 100, 100]        (recursive)\n",
              "│    │    └─Conv2d: 3-22                                [1, 3, 100, 100]          (recursive)\n",
              "│    │    └─Conv2d: 3-23                                [1, 12, 100, 100]         (recursive)\n",
              "│    │    └─Sequential: 3-24                            [1, 256, 50, 50]          (recursive)\n",
              "│    │    └─Conv2d: 3-25                                [1, 3, 50, 50]            (recursive)\n",
              "│    │    └─Conv2d: 3-26                                [1, 12, 50, 50]           (recursive)\n",
              "│    │    └─Sequential: 3-27                            [1, 256, 25, 25]          (recursive)\n",
              "│    │    └─Conv2d: 3-28                                [1, 3, 25, 25]            (recursive)\n",
              "│    │    └─Conv2d: 3-29                                [1, 12, 25, 25]           (recursive)\n",
              "│    │    └─Sequential: 3-30                            [1, 256, 13, 13]          (recursive)\n",
              "│    │    └─Conv2d: 3-31                                [1, 3, 13, 13]            (recursive)\n",
              "│    │    └─Conv2d: 3-32                                [1, 12, 13, 13]           (recursive)\n",
              "│    └─AnchorGenerator: 2-4                             [159882, 4]               --\n",
              "├─RoIHeads: 1-4                                         [100, 4]                  --\n",
              "│    └─MultiScaleRoIAlign: 2-5                          [1000, 256, 7, 7]         --\n",
              "│    └─TwoMLPHead: 2-6                                  [1000, 1024]              --\n",
              "│    │    └─Linear: 3-33                                [1000, 1024]              12,846,080\n",
              "│    │    └─Linear: 3-34                                [1000, 1024]              1,049,600\n",
              "│    └─FastRCNNPredictor: 2-7                           [1000, 4]                 --\n",
              "│    │    └─Linear: 3-35                                [1000, 4]                 4,100\n",
              "│    │    └─Linear: 3-36                                [1000, 16]                16,400\n",
              "=========================================================================================================\n",
              "Total params: 41,309,411\n",
              "Trainable params: 41,087,011\n",
              "Non-trainable params: 222,400\n",
              "Total mult-adds (G): 133.98\n",
              "=========================================================================================================\n",
              "Input size (MB): 0.27\n",
              "Forward/backward pass size (MB): 1483.77\n",
              "Params size (MB): 165.24\n",
              "Estimated Total Size (MB): 1649.27\n",
              "========================================================================================================="
            ]
          },
          "metadata": {},
          "execution_count": 182
        }
      ]
    },
    {
      "cell_type": "code",
      "execution_count": 124,
      "metadata": {
        "colab": {
          "base_uri": "https://localhost:8080/",
          "height": 587,
          "referenced_widgets": [
            "f11e3e4fd5f74d38a44953377af030d9",
            "c2b238a15c6e4404b61be8a2d02517ca",
            "02310eea78584e638637b1f9499d9f4b",
            "f9503cb1333f42b99d18f1c4ea20bd95",
            "ac957109148c433db865f35e26e1b4d4",
            "1c6ea8239b9e408a9a1253f846aa1ad3",
            "6d91a6d68d4b48c5be63fb983f8831e8",
            "767c969d60e84d6bbe7552b3a94cb589",
            "37d90141b9294bafa3e8b0890a3b0a58",
            "b84ce018b0e04f848186a46279e72c91",
            "7c2306d7cf2944758fa3f657693ed301"
          ]
        },
        "id": "BwZ-S4wM_Dvl",
        "outputId": "3ad4f4b7-a087-4798-cd96-b5acd5840023"
      },
      "outputs": [
        {
          "output_type": "display_data",
          "data": {
            "text/plain": [
              "  0%|          | 0/30 [00:00<?, ?it/s]"
            ],
            "application/vnd.jupyter.widget-view+json": {
              "version_major": 2,
              "version_minor": 0,
              "model_id": "f11e3e4fd5f74d38a44953377af030d9"
            }
          },
          "metadata": {}
        },
        {
          "output_type": "stream",
          "name": "stdout",
          "text": [
            "For Epoch: 1 | training_loss: 0.40057170391082764 | training_accuracy: 0.0 | testing_loss: 0.0 | testing_accuracy: 0.0\n",
            "For Epoch: 2 | training_loss: 0.05486125126481056 | training_accuracy: 0.0 | testing_loss: 0.0 | testing_accuracy: 0.0\n",
            "For Epoch: 3 | training_loss: 0.6771385073661804 | training_accuracy: 0.0 | testing_loss: 0.0 | testing_accuracy: 0.0\n",
            "For Epoch: 4 | training_loss: 0.06793344020843506 | training_accuracy: 0.0 | testing_loss: 0.0 | testing_accuracy: 0.0\n",
            "For Epoch: 5 | training_loss: 0.03182809427380562 | training_accuracy: 0.0 | testing_loss: 0.0 | testing_accuracy: 0.0\n",
            "For Epoch: 6 | training_loss: 0.34154295921325684 | training_accuracy: 0.0 | testing_loss: 0.0 | testing_accuracy: 0.0\n",
            "For Epoch: 7 | training_loss: 0.20445215702056885 | training_accuracy: 0.0 | testing_loss: 0.0 | testing_accuracy: 0.0\n",
            "For Epoch: 8 | training_loss: 0.07424977421760559 | training_accuracy: 0.0 | testing_loss: 0.0 | testing_accuracy: 0.0\n",
            "For Epoch: 9 | training_loss: 0.059201400727033615 | training_accuracy: 0.0 | testing_loss: 0.0 | testing_accuracy: 0.0\n",
            "For Epoch: 10 | training_loss: 0.015690483152866364 | training_accuracy: 0.0 | testing_loss: 0.0 | testing_accuracy: 0.0\n",
            "For Epoch: 11 | training_loss: 0.04864325001835823 | training_accuracy: 0.0 | testing_loss: 0.0 | testing_accuracy: 0.0\n",
            "For Epoch: 12 | training_loss: 0.023533571511507034 | training_accuracy: 0.0 | testing_loss: 0.0 | testing_accuracy: 0.0\n",
            "For Epoch: 13 | training_loss: 0.06280893087387085 | training_accuracy: 0.0 | testing_loss: 0.0 | testing_accuracy: 0.0\n",
            "For Epoch: 14 | training_loss: 0.027544884011149406 | training_accuracy: 0.0 | testing_loss: 0.0 | testing_accuracy: 0.0\n",
            "For Epoch: 15 | training_loss: 0.15049895644187927 | training_accuracy: 0.0 | testing_loss: 0.0 | testing_accuracy: 0.0\n",
            "For Epoch: 16 | training_loss: 0.12950614094734192 | training_accuracy: 0.0 | testing_loss: 0.0 | testing_accuracy: 0.0\n",
            "For Epoch: 17 | training_loss: 0.09298674762248993 | training_accuracy: 0.0 | testing_loss: 0.0 | testing_accuracy: 0.0\n",
            "For Epoch: 18 | training_loss: 0.03756856545805931 | training_accuracy: 0.0 | testing_loss: 0.0 | testing_accuracy: 0.0\n",
            "For Epoch: 19 | training_loss: 0.14160050451755524 | training_accuracy: 0.0 | testing_loss: 0.0 | testing_accuracy: 0.0\n",
            "For Epoch: 20 | training_loss: 0.007336470298469067 | training_accuracy: 0.0 | testing_loss: 0.0 | testing_accuracy: 0.0\n",
            "For Epoch: 21 | training_loss: 0.12886425852775574 | training_accuracy: 0.0 | testing_loss: 0.0 | testing_accuracy: 0.0\n",
            "For Epoch: 22 | training_loss: 0.050562601536512375 | training_accuracy: 0.0 | testing_loss: 0.0 | testing_accuracy: 0.0\n",
            "For Epoch: 23 | training_loss: 0.041142787784338 | training_accuracy: 0.0 | testing_loss: 0.0 | testing_accuracy: 0.0\n",
            "For Epoch: 24 | training_loss: 0.008426468819379807 | training_accuracy: 0.0 | testing_loss: 0.0 | testing_accuracy: 0.0\n",
            "For Epoch: 25 | training_loss: 0.1277833878993988 | training_accuracy: 0.0 | testing_loss: 0.0 | testing_accuracy: 0.0\n",
            "For Epoch: 26 | training_loss: 0.09092632681131363 | training_accuracy: 0.0 | testing_loss: 0.0 | testing_accuracy: 0.0\n",
            "For Epoch: 27 | training_loss: 0.04334232583642006 | training_accuracy: 0.0 | testing_loss: 0.0 | testing_accuracy: 0.0\n",
            "For Epoch: 28 | training_loss: 0.006946829613298178 | training_accuracy: 0.0 | testing_loss: 0.0 | testing_accuracy: 0.0\n",
            "For Epoch: 29 | training_loss: 0.014542159624397755 | training_accuracy: 0.0 | testing_loss: 0.0 | testing_accuracy: 0.0\n",
            "For Epoch: 30 | training_loss: 0.030211569741368294 | training_accuracy: 0.0 | testing_loss: 0.0 | testing_accuracy: 0.0\n",
            "Total training time for model training and testing: 1908.9995635800005 seconds\n"
          ]
        }
      ],
      "source": [
        "epochs = 30\n",
        "model6 = fasterrcnn_resnet50_fpn(weights=weights).to(device)\n",
        "params = [param for param in model6.parameters() if param.requires_grad]\n",
        "loss_function = nn.CrossEntropyLoss()\n",
        "model_optimizer =  torch.optim.AdamW(params, lr=0.0001, amsgrad=True)\n",
        "start_time = timer()\n",
        "model6_plot = train_method(model=model6,\n",
        "                           training_data_loader=training_data_loader,\n",
        "                           testing_data_loader=testing_data_loader,\n",
        "                           optimizer=model_optimizer,\n",
        "                           loss_function=loss_function,\n",
        "                           epochs=epochs)\n",
        "end_time = timer()\n",
        "print(f\"Total training time for model training and testing: {end_time-start_time} seconds\")"
      ]
    },
    {
      "cell_type": "code",
      "source": [
        "images, targets = next(iter(training_data_loader))\n",
        "model6.eval()\n",
        "with torch.no_grad():\n",
        "  images = list([image.to(device) for image in images])\n",
        "  outputs = model6(images)\n",
        "  print(outputs)"
      ],
      "metadata": {
        "colab": {
          "base_uri": "https://localhost:8080/"
        },
        "id": "8EKpIPA0RRwD",
        "outputId": "e697668c-ca66-4d9d-f30d-aca3ee2526da"
      },
      "execution_count": 139,
      "outputs": [
        {
          "output_type": "stream",
          "name": "stdout",
          "text": [
            "[{'boxes': tensor([[ 73.9010, 205.7433, 180.5772, 328.5923]], device='cuda:0'), 'labels': tensor([1], device='cuda:0'), 'scores': tensor([0.9999], device='cuda:0')}]\n"
          ]
        }
      ]
    },
    {
      "cell_type": "code",
      "source": [
        "plot_image(model=model6,\n",
        "          image_path=\"/content/download (1).jpg\")"
      ],
      "metadata": {
        "colab": {
          "base_uri": "https://localhost:8080/",
          "height": 383
        },
        "id": "su7ltE9lbZ1W",
        "outputId": "414ffed4-d534-44ca-c6a3-c1acb22591f6"
      },
      "execution_count": 145,
      "outputs": [
        {
          "output_type": "stream",
          "name": "stdout",
          "text": [
            "{'boxes': tensor([[195.3373, 112.0631, 231.7081, 156.5851],\n",
            "        [192.8701,  25.7151, 234.9786,  76.0725],\n",
            "        [ 70.7900, 111.7652, 110.7177, 156.3119],\n",
            "        [ 77.3716,  25.9534, 119.7069,  76.4965]], device='cuda:0'), 'labels': tensor([1, 1, 2, 2], device='cuda:0'), 'scores': tensor([1.0000, 1.0000, 0.9998, 0.9997], device='cuda:0')}\n"
          ]
        },
        {
          "output_type": "display_data",
          "data": {
            "text/plain": [
              "<Figure size 640x480 with 1 Axes>"
            ],
            "image/png": "[encoded data removed]"
          },
          "metadata": {}
        }
      ]
    },
    {
      "cell_type": "code",
      "source": [
        "summary(model7, input_size=[1, 3, 150, 150])"
      ],
      "metadata": {
        "colab": {
          "base_uri": "https://localhost:8080/"
        },
        "id": "u0PfBxWhivEz",
        "outputId": "980107c7-c668-4335-b0c4-c422f4df8cb7"
      },
      "execution_count": 184,
      "outputs": [
        {
          "output_type": "execute_result",
          "data": {
            "text/plain": [
              "=========================================================================================================\n",
              "Layer (type:depth-idx)                                  Output Shape              Param #\n",
              "=========================================================================================================\n",
              "FCOS                                                    [49, 4]                   --\n",
              "├─GeneralizedRCNNTransform: 1-1                         [1, 3, 800, 800]          --\n",
              "├─BackboneWithFPN: 1-2                                  [1, 256, 7, 7]            --\n",
              "│    └─IntermediateLayerGetter: 2-1                     [1, 2048, 25, 25]         --\n",
              "│    │    └─Conv2d: 3-1                                 [1, 64, 400, 400]         (9,408)\n",
              "│    │    └─FrozenBatchNorm2d: 3-2                      [1, 64, 400, 400]         --\n",
              "│    │    └─ReLU: 3-3                                   [1, 64, 400, 400]         --\n",
              "│    │    └─MaxPool2d: 3-4                              [1, 64, 200, 200]         --\n",
              "│    │    └─Sequential: 3-5                             [1, 256, 200, 200]        (212,992)\n",
              "│    │    └─Sequential: 3-6                             [1, 512, 100, 100]        1,212,416\n",
              "│    │    └─Sequential: 3-7                             [1, 1024, 50, 50]         7,077,888\n",
              "│    │    └─Sequential: 3-8                             [1, 2048, 25, 25]         14,942,208\n",
              "│    └─FeaturePyramidNetwork: 2-2                       [1, 256, 7, 7]            --\n",
              "│    │    └─ModuleList: 3-13                            --                        (recursive)\n",
              "│    │    └─ModuleList: 3-14                            --                        (recursive)\n",
              "│    │    └─ModuleList: 3-13                            --                        (recursive)\n",
              "│    │    └─ModuleList: 3-14                            --                        (recursive)\n",
              "│    │    └─ModuleList: 3-13                            --                        (recursive)\n",
              "│    │    └─ModuleList: 3-14                            --                        (recursive)\n",
              "│    │    └─LastLevelP6P7: 3-15                         [1, 256, 100, 100]        1,180,160\n",
              "├─FCOSHead: 1-3                                         [1, 13343, 1]             --\n",
              "│    └─FCOSClassificationHead: 2-3                      [1, 13343, 91]            --\n",
              "│    │    └─Sequential: 3-16                            [1, 256, 100, 100]        2,362,368\n",
              "│    │    └─Conv2d: 3-17                                [1, 91, 100, 100]         209,755\n",
              "│    │    └─Sequential: 3-18                            [1, 256, 50, 50]          (recursive)\n",
              "│    │    └─Conv2d: 3-19                                [1, 91, 50, 50]           (recursive)\n",
              "│    │    └─Sequential: 3-20                            [1, 256, 25, 25]          (recursive)\n",
              "│    │    └─Conv2d: 3-21                                [1, 91, 25, 25]           (recursive)\n",
              "│    │    └─Sequential: 3-22                            [1, 256, 13, 13]          (recursive)\n",
              "│    │    └─Conv2d: 3-23                                [1, 91, 13, 13]           (recursive)\n",
              "│    │    └─Sequential: 3-24                            [1, 256, 7, 7]            (recursive)\n",
              "│    │    └─Conv2d: 3-25                                [1, 91, 7, 7]             (recursive)\n",
              "│    └─FCOSRegressionHead: 2-4                          [1, 13343, 4]             --\n",
              "│    │    └─Sequential: 3-26                            [1, 256, 100, 100]        2,362,368\n",
              "│    │    └─Conv2d: 3-27                                [1, 4, 100, 100]          9,220\n",
              "│    │    └─Conv2d: 3-28                                [1, 1, 100, 100]          2,305\n",
              "│    │    └─Sequential: 3-29                            [1, 256, 50, 50]          (recursive)\n",
              "│    │    └─Conv2d: 3-30                                [1, 4, 50, 50]            (recursive)\n",
              "│    │    └─Conv2d: 3-31                                [1, 1, 50, 50]            (recursive)\n",
              "│    │    └─Sequential: 3-32                            [1, 256, 25, 25]          (recursive)\n",
              "│    │    └─Conv2d: 3-33                                [1, 4, 25, 25]            (recursive)\n",
              "│    │    └─Conv2d: 3-34                                [1, 1, 25, 25]            (recursive)\n",
              "│    │    └─Sequential: 3-35                            [1, 256, 13, 13]          (recursive)\n",
              "│    │    └─Conv2d: 3-36                                [1, 4, 13, 13]            (recursive)\n",
              "│    │    └─Conv2d: 3-37                                [1, 1, 13, 13]            (recursive)\n",
              "│    │    └─Sequential: 3-38                            [1, 256, 7, 7]            (recursive)\n",
              "│    │    └─Conv2d: 3-39                                [1, 4, 7, 7]              (recursive)\n",
              "│    │    └─Conv2d: 3-40                                [1, 1, 7, 7]              (recursive)\n",
              "├─AnchorGenerator: 1-4                                  [13343, 4]                --\n",
              "=========================================================================================================\n",
              "Total params: 32,269,600\n",
              "Trainable params: 32,047,200\n",
              "Non-trainable params: 222,400\n",
              "Total mult-adds (G): 128.24\n",
              "=========================================================================================================\n",
              "Input size (MB): 0.27\n",
              "Forward/backward pass size (MB): 1635.76\n",
              "Params size (MB): 129.08\n",
              "Estimated Total Size (MB): 1765.11\n",
              "========================================================================================================="
            ]
          },
          "metadata": {},
          "execution_count": 184
        }
      ]
    },
    {
      "cell_type": "code",
      "execution_count": 183,
      "metadata": {
        "id": "dr6cs_nL_HID",
        "colab": {
          "base_uri": "https://localhost:8080/"
        },
        "outputId": "3318e834-7a75-447d-ce80-85c3464f7b32"
      },
      "outputs": [
        {
          "output_type": "stream",
          "name": "stdout",
          "text": [
            "Lenght of scores and labels before changing the num_classes 100 100 100\n"
          ]
        }
      ],
      "source": [
        "from torchvision.models.detection import fcos_resnet50_fpn, FCOS_ResNet50_FPN_Weights\n",
        "weights = FCOS_ResNet50_FPN_Weights.DEFAULT\n",
        "transforms = weights.transforms()\n",
        "model7 = fcos_resnet50_fpn(weights=weights).to(device)\n",
        "images, targets = next(iter(training_data_loader))\n",
        "model7.eval()\n",
        "with torch.no_grad():\n",
        "  images = list([image.to(device) for image in images])\n",
        "  outputs = model7(images)\n",
        "  print(\"Lenght of scores and labels before changing the num_classes\", len(outputs[0]['boxes']), len(outputs[0]['scores']), len(outputs[0]['labels']))"
      ]
    },
    {
      "cell_type": "code",
      "execution_count": 149,
      "metadata": {
        "id": "RefGr83f_IL6",
        "colab": {
          "base_uri": "https://localhost:8080/",
          "height": 587,
          "referenced_widgets": [
            "847ebcb02e3e44a7bdb365dd0981cdd6",
            "8fc5e409b452441c8ec729b197212346",
            "3a7b649a718f457da0c58b5a48ddc557",
            "b4f5880a36e74633886a0a471307c02d",
            "d04c0453aa404eb8bfb0e4b0a9280296",
            "6d834fd72859400fbad98f0931899205",
            "bdd58259f3394542866c81a288191790",
            "d18f1837eb484dbfaf449822207d0478",
            "698ea3509b1f4d0abf1302692aa22df6",
            "a889d7f8c6794f01afb7c4b1331bb75b",
            "c1fe7a3dd1f04d97af4aaff1962a5c69"
          ]
        },
        "outputId": "567681bc-ae36-4177-fc4f-ef0f14a9a9a5"
      },
      "outputs": [
        {
          "output_type": "display_data",
          "data": {
            "text/plain": [
              "  0%|          | 0/30 [00:00<?, ?it/s]"
            ],
            "application/vnd.jupyter.widget-view+json": {
              "version_major": 2,
              "version_minor": 0,
              "model_id": "847ebcb02e3e44a7bdb365dd0981cdd6"
            }
          },
          "metadata": {}
        },
        {
          "output_type": "stream",
          "name": "stdout",
          "text": [
            "For Epoch: 1 | training_loss: 1.301582932472229 | training_accuracy: 0.0 | testing_loss: 0.0 | testing_accuracy: 0.0\n",
            "For Epoch: 2 | training_loss: 1.2007482051849365 | training_accuracy: 0.0 | testing_loss: 0.0 | testing_accuracy: 0.0\n",
            "For Epoch: 3 | training_loss: 1.4583425521850586 | training_accuracy: 0.0 | testing_loss: 0.0 | testing_accuracy: 0.0\n",
            "For Epoch: 4 | training_loss: 0.9811272621154785 | training_accuracy: 0.0 | testing_loss: 0.0 | testing_accuracy: 0.0\n",
            "For Epoch: 5 | training_loss: 0.8985978364944458 | training_accuracy: 0.0 | testing_loss: 0.0 | testing_accuracy: 0.0\n",
            "For Epoch: 6 | training_loss: 1.1096233129501343 | training_accuracy: 0.0 | testing_loss: 0.0 | testing_accuracy: 0.0\n",
            "For Epoch: 7 | training_loss: 0.9965665936470032 | training_accuracy: 0.0 | testing_loss: 0.0 | testing_accuracy: 0.0\n",
            "For Epoch: 8 | training_loss: 0.8946102857589722 | training_accuracy: 0.0 | testing_loss: 0.0 | testing_accuracy: 0.0\n",
            "For Epoch: 9 | training_loss: 1.09769606590271 | training_accuracy: 0.0 | testing_loss: 0.0 | testing_accuracy: 0.0\n",
            "For Epoch: 10 | training_loss: 1.1000556945800781 | training_accuracy: 0.0 | testing_loss: 0.0 | testing_accuracy: 0.0\n",
            "For Epoch: 11 | training_loss: 1.0787768363952637 | training_accuracy: 0.0 | testing_loss: 0.0 | testing_accuracy: 0.0\n",
            "For Epoch: 12 | training_loss: 1.0855293273925781 | training_accuracy: 0.0 | testing_loss: 0.0 | testing_accuracy: 0.0\n",
            "For Epoch: 13 | training_loss: 0.6826355457305908 | training_accuracy: 0.0 | testing_loss: 0.0 | testing_accuracy: 0.0\n",
            "For Epoch: 14 | training_loss: 0.7736065983772278 | training_accuracy: 0.0 | testing_loss: 0.0 | testing_accuracy: 0.0\n",
            "For Epoch: 15 | training_loss: 0.7008516192436218 | training_accuracy: 0.0 | testing_loss: 0.0 | testing_accuracy: 0.0\n",
            "For Epoch: 16 | training_loss: 0.799126148223877 | training_accuracy: 0.0 | testing_loss: 0.0 | testing_accuracy: 0.0\n",
            "For Epoch: 17 | training_loss: 0.8124998807907104 | training_accuracy: 0.0 | testing_loss: 0.0 | testing_accuracy: 0.0\n",
            "For Epoch: 18 | training_loss: 0.621602475643158 | training_accuracy: 0.0 | testing_loss: 0.0 | testing_accuracy: 0.0\n",
            "For Epoch: 19 | training_loss: 0.6410932540893555 | training_accuracy: 0.0 | testing_loss: 0.0 | testing_accuracy: 0.0\n",
            "For Epoch: 20 | training_loss: 0.8641583323478699 | training_accuracy: 0.0 | testing_loss: 0.0 | testing_accuracy: 0.0\n",
            "For Epoch: 21 | training_loss: 0.6858973503112793 | training_accuracy: 0.0 | testing_loss: 0.0 | testing_accuracy: 0.0\n",
            "For Epoch: 22 | training_loss: 0.721814751625061 | training_accuracy: 0.0 | testing_loss: 0.0 | testing_accuracy: 0.0\n",
            "For Epoch: 23 | training_loss: 0.6378056406974792 | training_accuracy: 0.0 | testing_loss: 0.0 | testing_accuracy: 0.0\n",
            "For Epoch: 24 | training_loss: 0.6516134738922119 | training_accuracy: 0.0 | testing_loss: 0.0 | testing_accuracy: 0.0\n",
            "For Epoch: 25 | training_loss: 0.6397287845611572 | training_accuracy: 0.0 | testing_loss: 0.0 | testing_accuracy: 0.0\n",
            "For Epoch: 26 | training_loss: 0.7811275720596313 | training_accuracy: 0.0 | testing_loss: 0.0 | testing_accuracy: 0.0\n",
            "For Epoch: 27 | training_loss: 0.6308863759040833 | training_accuracy: 0.0 | testing_loss: 0.0 | testing_accuracy: 0.0\n",
            "For Epoch: 28 | training_loss: 0.6692036390304565 | training_accuracy: 0.0 | testing_loss: 0.0 | testing_accuracy: 0.0\n",
            "For Epoch: 29 | training_loss: 0.6555578708648682 | training_accuracy: 0.0 | testing_loss: 0.0 | testing_accuracy: 0.0\n",
            "For Epoch: 30 | training_loss: 0.6474047303199768 | training_accuracy: 0.0 | testing_loss: 0.0 | testing_accuracy: 0.0\n",
            "Total training time for model training and testing: 1924.3415920030002 seconds\n"
          ]
        }
      ],
      "source": [
        "epochs = 30\n",
        "model7 = fcos_resnet50_fpn(num_classes=4).to(device)\n",
        "params = [param for param in model7.parameters() if param.requires_grad]\n",
        "loss_function = nn.CrossEntropyLoss()\n",
        "model_optimizer =  torch.optim.AdamW(params, lr=0.0001, amsgrad=True)\n",
        "start_time = timer()\n",
        "model7_plot = train_method(model=model7,\n",
        "                           training_data_loader=training_data_loader,\n",
        "                           testing_data_loader=testing_data_loader,\n",
        "                           optimizer=model_optimizer,\n",
        "                           loss_function=loss_function,\n",
        "                           epochs=epochs)\n",
        "end_time = timer()\n",
        "print(f\"Total training time for model training and testing: {end_time-start_time} seconds\")"
      ]
    },
    {
      "cell_type": "code",
      "source": [
        "images, targets = next(iter(training_data_loader))\n",
        "model7.eval()\n",
        "with torch.no_grad():\n",
        "  images = list([image.to(device) for image in images])\n",
        "  outputs = model7(images)\n",
        "  print(outputs)"
      ],
      "metadata": {
        "colab": {
          "base_uri": "https://localhost:8080/"
        },
        "id": "YVECTvn613Bp",
        "outputId": "a09f8ede-e755-42d0-8e5b-162e98540013"
      },
      "execution_count": 150,
      "outputs": [
        {
          "output_type": "stream",
          "name": "stdout",
          "text": [
            "[{'boxes': tensor([[ 40.7192, 108.8698,  66.3841, 140.0721],\n",
            "        [303.1793, 129.9789, 330.8093, 159.2342],\n",
            "        [130.0340, 107.4240, 174.6163, 152.9386],\n",
            "        [  1.4229, 104.0575,  21.3759, 125.6436],\n",
            "        [167.2754,  90.4883, 180.0659, 107.9943],\n",
            "        [ 29.4066,  88.1067,  45.9226, 105.0610],\n",
            "        [ 83.4766,  84.3680,  95.6835,  96.7425],\n",
            "        [219.7444,  99.4100, 256.2905, 139.9428],\n",
            "        [303.1971, 130.0299, 331.0247, 159.2610],\n",
            "        [ 44.3723, 135.9830,  76.3731, 170.1985],\n",
            "        [129.1788, 148.7946, 151.9056, 169.9154],\n",
            "        [ 29.3529,  88.1527,  45.9676, 105.0588]], device='cuda:0'), 'scores': tensor([0.9123, 0.9054, 0.9017, 0.8954, 0.8506, 0.8490, 0.8078, 0.7991, 0.2735,\n",
            "        0.2671, 0.2210, 0.2151], device='cuda:0'), 'labels': tensor([2, 2, 1, 2, 2, 2, 2, 1, 1, 1, 1, 3], device='cuda:0')}]\n"
          ]
        }
      ]
    },
    {
      "cell_type": "code",
      "source": [
        "plot_image(model=model7,\n",
        "          image_path=\"/content/download (1).jpg\")"
      ],
      "metadata": {
        "colab": {
          "base_uri": "https://localhost:8080/",
          "height": 418
        },
        "id": "6wWljly241lD",
        "outputId": "0dc4b04b-0c49-43e4-f5e6-c630b8faa864"
      },
      "execution_count": 151,
      "outputs": [
        {
          "output_type": "stream",
          "name": "stdout",
          "text": [
            "{'boxes': tensor([[195.3373, 112.0631, 231.7081, 156.5851],\n",
            "        [192.8701,  25.7151, 234.9786,  76.0725],\n",
            "        [ 70.7900, 111.7652, 110.7177, 156.3119],\n",
            "        [ 77.3716,  25.9534, 119.7069,  76.4965]], device='cuda:0'), 'labels': tensor([1, 1, 2, 2], device='cuda:0'), 'scores': tensor([1.0000, 1.0000, 0.9998, 0.9997], device='cuda:0')}\n"
          ]
        },
        {
          "output_type": "stream",
          "name": "stderr",
          "text": [
            "/usr/local/lib/python3.10/dist-packages/torchvision/utils.py:232: UserWarning: Argument 'font_size' will be ignored since 'font' is not set.\n",
            "  warnings.warn(\"Argument 'font_size' will be ignored since 'font' is not set.\")\n"
          ]
        },
        {
          "output_type": "display_data",
          "data": {
            "text/plain": [
              "<Figure size 640x480 with 1 Axes>"
            ],
            "image/png": "[encoded data removed]"
          },
          "metadata": {}
        }
      ]
    },
    {
      "cell_type": "code",
      "source": [
        "Refrences:\n",
        "https://www.learnpytorch.io/\n",
        "https://pytorch.org/vision/stable/auto_examples/plot_transforms_v2_e2e.html#sphx-glr-auto-examples-plot-transforms-v2-e2e-py\n",
        "https://pytorch.org/vision/stable/auto_examples/plot_visualization_utils.html#instance-seg-output\n",
        "https://www.kaggle.com/code/daniel601/pytorch-fasterrcnn"
      ],
      "metadata": {
        "id": "zlbxJOqiBB5C"
      },
      "execution_count": null,
      "outputs": []
    }
  ],
  "metadata": {
    "accelerator": "GPU",
    "colab": {
      "machine_shape": "hm",
      "provenance": [],
      "gpuType": "V100"
    },
    "kernelspec": {
      "display_name": "Python 3",
      "name": "python3"
    },
    "language_info": {
      "name": "python"
    },
    "widgets": {
      "application/vnd.jupyter.widget-state+json": {
        "f11e3e4fd5f74d38a44953377af030d9": {
          "model_module": "@jupyter-widgets/controls",
          "model_name": "HBoxModel",
          "model_module_version": "1.5.0",
          "state": {
            "_dom_classes": [],
            "_model_module": "@jupyter-widgets/controls",
            "_model_module_version": "1.5.0",
            "_model_name": "HBoxModel",
            "_view_count": null,
            "_view_module": "@jupyter-widgets/controls",
            "_view_module_version": "1.5.0",
            "_view_name": "HBoxView",
            "box_style": "",
            "children": [
              "IPY_MODEL_c2b238a15c6e4404b61be8a2d02517ca",
              "IPY_MODEL_02310eea78584e638637b1f9499d9f4b",
              "IPY_MODEL_f9503cb1333f42b99d18f1c4ea20bd95"
            ],
            "layout": "IPY_MODEL_ac957109148c433db865f35e26e1b4d4"
          }
        },
        "c2b238a15c6e4404b61be8a2d02517ca": {
          "model_module": "@jupyter-widgets/controls",
          "model_name": "HTMLModel",
          "model_module_version": "1.5.0",
          "state": {
            "_dom_classes": [],
            "_model_module": "@jupyter-widgets/controls",
            "_model_module_version": "1.5.0",
            "_model_name": "HTMLModel",
            "_view_count": null,
            "_view_module": "@jupyter-widgets/controls",
            "_view_module_version": "1.5.0",
            "_view_name": "HTMLView",
            "description": "",
            "description_tooltip": null,
            "layout": "IPY_MODEL_1c6ea8239b9e408a9a1253f846aa1ad3",
            "placeholder": "​",
            "style": "IPY_MODEL_6d91a6d68d4b48c5be63fb983f8831e8",
            "value": "100%"
          }
        },
        "02310eea78584e638637b1f9499d9f4b": {
          "model_module": "@jupyter-widgets/controls",
          "model_name": "FloatProgressModel",
          "model_module_version": "1.5.0",
          "state": {
            "_dom_classes": [],
            "_model_module": "@jupyter-widgets/controls",
            "_model_module_version": "1.5.0",
            "_model_name": "FloatProgressModel",
            "_view_count": null,
            "_view_module": "@jupyter-widgets/controls",
            "_view_module_version": "1.5.0",
            "_view_name": "ProgressView",
            "bar_style": "success",
            "description": "",
            "description_tooltip": null,
            "layout": "IPY_MODEL_767c969d60e84d6bbe7552b3a94cb589",
            "max": 30,
            "min": 0,
            "orientation": "horizontal",
            "style": "IPY_MODEL_37d90141b9294bafa3e8b0890a3b0a58",
            "value": 30
          }
        },
        "f9503cb1333f42b99d18f1c4ea20bd95": {
          "model_module": "@jupyter-widgets/controls",
          "model_name": "HTMLModel",
          "model_module_version": "1.5.0",
          "state": {
            "_dom_classes": [],
            "_model_module": "@jupyter-widgets/controls",
            "_model_module_version": "1.5.0",
            "_model_name": "HTMLModel",
            "_view_count": null,
            "_view_module": "@jupyter-widgets/controls",
            "_view_module_version": "1.5.0",
            "_view_name": "HTMLView",
            "description": "",
            "description_tooltip": null,
            "layout": "IPY_MODEL_b84ce018b0e04f848186a46279e72c91",
            "placeholder": "​",
            "style": "IPY_MODEL_7c2306d7cf2944758fa3f657693ed301",
            "value": " 30/30 [31:48&lt;00:00, 63.38s/it]"
          }
        },
        "ac957109148c433db865f35e26e1b4d4": {
          "model_module": "@jupyter-widgets/base",
          "model_name": "LayoutModel",
          "model_module_version": "1.2.0",
          "state": {
            "_model_module": "@jupyter-widgets/base",
            "_model_module_version": "1.2.0",
            "_model_name": "LayoutModel",
            "_view_count": null,
            "_view_module": "@jupyter-widgets/base",
            "_view_module_version": "1.2.0",
            "_view_name": "LayoutView",
            "align_content": null,
            "align_items": null,
            "align_self": null,
            "border": null,
            "bottom": null,
            "display": null,
            "flex": null,
            "flex_flow": null,
            "grid_area": null,
            "grid_auto_columns": null,
            "grid_auto_flow": null,
            "grid_auto_rows": null,
            "grid_column": null,
            "grid_gap": null,
            "grid_row": null,
            "grid_template_areas": null,
            "grid_template_columns": null,
            "grid_template_rows": null,
            "height": null,
            "justify_content": null,
            "justify_items": null,
            "left": null,
            "margin": null,
            "max_height": null,
            "max_width": null,
            "min_height": null,
            "min_width": null,
            "object_fit": null,
            "object_position": null,
            "order": null,
            "overflow": null,
            "overflow_x": null,
            "overflow_y": null,
            "padding": null,
            "right": null,
            "top": null,
            "visibility": null,
            "width": null
          }
        },
        "1c6ea8239b9e408a9a1253f846aa1ad3": {
          "model_module": "@jupyter-widgets/base",
          "model_name": "LayoutModel",
          "model_module_version": "1.2.0",
          "state": {
            "_model_module": "@jupyter-widgets/base",
            "_model_module_version": "1.2.0",
            "_model_name": "LayoutModel",
            "_view_count": null,
            "_view_module": "@jupyter-widgets/base",
            "_view_module_version": "1.2.0",
            "_view_name": "LayoutView",
            "align_content": null,
            "align_items": null,
            "align_self": null,
            "border": null,
            "bottom": null,
            "display": null,
            "flex": null,
            "flex_flow": null,
            "grid_area": null,
            "grid_auto_columns": null,
            "grid_auto_flow": null,
            "grid_auto_rows": null,
            "grid_column": null,
            "grid_gap": null,
            "grid_row": null,
            "grid_template_areas": null,
            "grid_template_columns": null,
            "grid_template_rows": null,
            "height": null,
            "justify_content": null,
            "justify_items": null,
            "left": null,
            "margin": null,
            "max_height": null,
            "max_width": null,
            "min_height": null,
            "min_width": null,
            "object_fit": null,
            "object_position": null,
            "order": null,
            "overflow": null,
            "overflow_x": null,
            "overflow_y": null,
            "padding": null,
            "right": null,
            "top": null,
            "visibility": null,
            "width": null
          }
        },
        "6d91a6d68d4b48c5be63fb983f8831e8": {
          "model_module": "@jupyter-widgets/controls",
          "model_name": "DescriptionStyleModel",
          "model_module_version": "1.5.0",
          "state": {
            "_model_module": "@jupyter-widgets/controls",
            "_model_module_version": "1.5.0",
            "_model_name": "DescriptionStyleModel",
            "_view_count": null,
            "_view_module": "@jupyter-widgets/base",
            "_view_module_version": "1.2.0",
            "_view_name": "StyleView",
            "description_width": ""
          }
        },
        "767c969d60e84d6bbe7552b3a94cb589": {
          "model_module": "@jupyter-widgets/base",
          "model_name": "LayoutModel",
          "model_module_version": "1.2.0",
          "state": {
            "_model_module": "@jupyter-widgets/base",
            "_model_module_version": "1.2.0",
            "_model_name": "LayoutModel",
            "_view_count": null,
            "_view_module": "@jupyter-widgets/base",
            "_view_module_version": "1.2.0",
            "_view_name": "LayoutView",
            "align_content": null,
            "align_items": null,
            "align_self": null,
            "border": null,
            "bottom": null,
            "display": null,
            "flex": null,
            "flex_flow": null,
            "grid_area": null,
            "grid_auto_columns": null,
            "grid_auto_flow": null,
            "grid_auto_rows": null,
            "grid_column": null,
            "grid_gap": null,
            "grid_row": null,
            "grid_template_areas": null,
            "grid_template_columns": null,
            "grid_template_rows": null,
            "height": null,
            "justify_content": null,
            "justify_items": null,
            "left": null,
            "margin": null,
            "max_height": null,
            "max_width": null,
            "min_height": null,
            "min_width": null,
            "object_fit": null,
            "object_position": null,
            "order": null,
            "overflow": null,
            "overflow_x": null,
            "overflow_y": null,
            "padding": null,
            "right": null,
            "top": null,
            "visibility": null,
            "width": null
          }
        },
        "37d90141b9294bafa3e8b0890a3b0a58": {
          "model_module": "@jupyter-widgets/controls",
          "model_name": "ProgressStyleModel",
          "model_module_version": "1.5.0",
          "state": {
            "_model_module": "@jupyter-widgets/controls",
            "_model_module_version": "1.5.0",
            "_model_name": "ProgressStyleModel",
            "_view_count": null,
            "_view_module": "@jupyter-widgets/base",
            "_view_module_version": "1.2.0",
            "_view_name": "StyleView",
            "bar_color": null,
            "description_width": ""
          }
        },
        "b84ce018b0e04f848186a46279e72c91": {
          "model_module": "@jupyter-widgets/base",
          "model_name": "LayoutModel",
          "model_module_version": "1.2.0",
          "state": {
            "_model_module": "@jupyter-widgets/base",
            "_model_module_version": "1.2.0",
            "_model_name": "LayoutModel",
            "_view_count": null,
            "_view_module": "@jupyter-widgets/base",
            "_view_module_version": "1.2.0",
            "_view_name": "LayoutView",
            "align_content": null,
            "align_items": null,
            "align_self": null,
            "border": null,
            "bottom": null,
            "display": null,
            "flex": null,
            "flex_flow": null,
            "grid_area": null,
            "grid_auto_columns": null,
            "grid_auto_flow": null,
            "grid_auto_rows": null,
            "grid_column": null,
            "grid_gap": null,
            "grid_row": null,
            "grid_template_areas": null,
            "grid_template_columns": null,
            "grid_template_rows": null,
            "height": null,
            "justify_content": null,
            "justify_items": null,
            "left": null,
            "margin": null,
            "max_height": null,
            "max_width": null,
            "min_height": null,
            "min_width": null,
            "object_fit": null,
            "object_position": null,
            "order": null,
            "overflow": null,
            "overflow_x": null,
            "overflow_y": null,
            "padding": null,
            "right": null,
            "top": null,
            "visibility": null,
            "width": null
          }
        },
        "7c2306d7cf2944758fa3f657693ed301": {
          "model_module": "@jupyter-widgets/controls",
          "model_name": "DescriptionStyleModel",
          "model_module_version": "1.5.0",
          "state": {
            "_model_module": "@jupyter-widgets/controls",
            "_model_module_version": "1.5.0",
            "_model_name": "DescriptionStyleModel",
            "_view_count": null,
            "_view_module": "@jupyter-widgets/base",
            "_view_module_version": "1.2.0",
            "_view_name": "StyleView",
            "description_width": ""
          }
        },
        "847ebcb02e3e44a7bdb365dd0981cdd6": {
          "model_module": "@jupyter-widgets/controls",
          "model_name": "HBoxModel",
          "model_module_version": "1.5.0",
          "state": {
            "_dom_classes": [],
            "_model_module": "@jupyter-widgets/controls",
            "_model_module_version": "1.5.0",
            "_model_name": "HBoxModel",
            "_view_count": null,
            "_view_module": "@jupyter-widgets/controls",
            "_view_module_version": "1.5.0",
            "_view_name": "HBoxView",
            "box_style": "",
            "children": [
              "IPY_MODEL_8fc5e409b452441c8ec729b197212346",
              "IPY_MODEL_3a7b649a718f457da0c58b5a48ddc557",
              "IPY_MODEL_b4f5880a36e74633886a0a471307c02d"
            ],
            "layout": "IPY_MODEL_d04c0453aa404eb8bfb0e4b0a9280296"
          }
        },
        "8fc5e409b452441c8ec729b197212346": {
          "model_module": "@jupyter-widgets/controls",
          "model_name": "HTMLModel",
          "model_module_version": "1.5.0",
          "state": {
            "_dom_classes": [],
            "_model_module": "@jupyter-widgets/controls",
            "_model_module_version": "1.5.0",
            "_model_name": "HTMLModel",
            "_view_count": null,
            "_view_module": "@jupyter-widgets/controls",
            "_view_module_version": "1.5.0",
            "_view_name": "HTMLView",
            "description": "",
            "description_tooltip": null,
            "layout": "IPY_MODEL_6d834fd72859400fbad98f0931899205",
            "placeholder": "​",
            "style": "IPY_MODEL_bdd58259f3394542866c81a288191790",
            "value": "100%"
          }
        },
        "3a7b649a718f457da0c58b5a48ddc557": {
          "model_module": "@jupyter-widgets/controls",
          "model_name": "FloatProgressModel",
          "model_module_version": "1.5.0",
          "state": {
            "_dom_classes": [],
            "_model_module": "@jupyter-widgets/controls",
            "_model_module_version": "1.5.0",
            "_model_name": "FloatProgressModel",
            "_view_count": null,
            "_view_module": "@jupyter-widgets/controls",
            "_view_module_version": "1.5.0",
            "_view_name": "ProgressView",
            "bar_style": "success",
            "description": "",
            "description_tooltip": null,
            "layout": "IPY_MODEL_d18f1837eb484dbfaf449822207d0478",
            "max": 30,
            "min": 0,
            "orientation": "horizontal",
            "style": "IPY_MODEL_698ea3509b1f4d0abf1302692aa22df6",
            "value": 30
          }
        },
        "b4f5880a36e74633886a0a471307c02d": {
          "model_module": "@jupyter-widgets/controls",
          "model_name": "HTMLModel",
          "model_module_version": "1.5.0",
          "state": {
            "_dom_classes": [],
            "_model_module": "@jupyter-widgets/controls",
            "_model_module_version": "1.5.0",
            "_model_name": "HTMLModel",
            "_view_count": null,
            "_view_module": "@jupyter-widgets/controls",
            "_view_module_version": "1.5.0",
            "_view_name": "HTMLView",
            "description": "",
            "description_tooltip": null,
            "layout": "IPY_MODEL_a889d7f8c6794f01afb7c4b1331bb75b",
            "placeholder": "​",
            "style": "IPY_MODEL_c1fe7a3dd1f04d97af4aaff1962a5c69",
            "value": " 30/30 [32:04&lt;00:00, 64.10s/it]"
          }
        },
        "d04c0453aa404eb8bfb0e4b0a9280296": {
          "model_module": "@jupyter-widgets/base",
          "model_name": "LayoutModel",
          "model_module_version": "1.2.0",
          "state": {
            "_model_module": "@jupyter-widgets/base",
            "_model_module_version": "1.2.0",
            "_model_name": "LayoutModel",
            "_view_count": null,
            "_view_module": "@jupyter-widgets/base",
            "_view_module_version": "1.2.0",
            "_view_name": "LayoutView",
            "align_content": null,
            "align_items": null,
            "align_self": null,
            "border": null,
            "bottom": null,
            "display": null,
            "flex": null,
            "flex_flow": null,
            "grid_area": null,
            "grid_auto_columns": null,
            "grid_auto_flow": null,
            "grid_auto_rows": null,
            "grid_column": null,
            "grid_gap": null,
            "grid_row": null,
            "grid_template_areas": null,
            "grid_template_columns": null,
            "grid_template_rows": null,
            "height": null,
            "justify_content": null,
            "justify_items": null,
            "left": null,
            "margin": null,
            "max_height": null,
            "max_width": null,
            "min_height": null,
            "min_width": null,
            "object_fit": null,
            "object_position": null,
            "order": null,
            "overflow": null,
            "overflow_x": null,
            "overflow_y": null,
            "padding": null,
            "right": null,
            "top": null,
            "visibility": null,
            "width": null
          }
        },
        "6d834fd72859400fbad98f0931899205": {
          "model_module": "@jupyter-widgets/base",
          "model_name": "LayoutModel",
          "model_module_version": "1.2.0",
          "state": {
            "_model_module": "@jupyter-widgets/base",
            "_model_module_version": "1.2.0",
            "_model_name": "LayoutModel",
            "_view_count": null,
            "_view_module": "@jupyter-widgets/base",
            "_view_module_version": "1.2.0",
            "_view_name": "LayoutView",
            "align_content": null,
            "align_items": null,
            "align_self": null,
            "border": null,
            "bottom": null,
            "display": null,
            "flex": null,
            "flex_flow": null,
            "grid_area": null,
            "grid_auto_columns": null,
            "grid_auto_flow": null,
            "grid_auto_rows": null,
            "grid_column": null,
            "grid_gap": null,
            "grid_row": null,
            "grid_template_areas": null,
            "grid_template_columns": null,
            "grid_template_rows": null,
            "height": null,
            "justify_content": null,
            "justify_items": null,
            "left": null,
            "margin": null,
            "max_height": null,
            "max_width": null,
            "min_height": null,
            "min_width": null,
            "object_fit": null,
            "object_position": null,
            "order": null,
            "overflow": null,
            "overflow_x": null,
            "overflow_y": null,
            "padding": null,
            "right": null,
            "top": null,
            "visibility": null,
            "width": null
          }
        },
        "bdd58259f3394542866c81a288191790": {
          "model_module": "@jupyter-widgets/controls",
          "model_name": "DescriptionStyleModel",
          "model_module_version": "1.5.0",
          "state": {
            "_model_module": "@jupyter-widgets/controls",
            "_model_module_version": "1.5.0",
            "_model_name": "DescriptionStyleModel",
            "_view_count": null,
            "_view_module": "@jupyter-widgets/base",
            "_view_module_version": "1.2.0",
            "_view_name": "StyleView",
            "description_width": ""
          }
        },
        "d18f1837eb484dbfaf449822207d0478": {
          "model_module": "@jupyter-widgets/base",
          "model_name": "LayoutModel",
          "model_module_version": "1.2.0",
          "state": {
            "_model_module": "@jupyter-widgets/base",
            "_model_module_version": "1.2.0",
            "_model_name": "LayoutModel",
            "_view_count": null,
            "_view_module": "@jupyter-widgets/base",
            "_view_module_version": "1.2.0",
            "_view_name": "LayoutView",
            "align_content": null,
            "align_items": null,
            "align_self": null,
            "border": null,
            "bottom": null,
            "display": null,
            "flex": null,
            "flex_flow": null,
            "grid_area": null,
            "grid_auto_columns": null,
            "grid_auto_flow": null,
            "grid_auto_rows": null,
            "grid_column": null,
            "grid_gap": null,
            "grid_row": null,
            "grid_template_areas": null,
            "grid_template_columns": null,
            "grid_template_rows": null,
            "height": null,
            "justify_content": null,
            "justify_items": null,
            "left": null,
            "margin": null,
            "max_height": null,
            "max_width": null,
            "min_height": null,
            "min_width": null,
            "object_fit": null,
            "object_position": null,
            "order": null,
            "overflow": null,
            "overflow_x": null,
            "overflow_y": null,
            "padding": null,
            "right": null,
            "top": null,
            "visibility": null,
            "width": null
          }
        },
        "698ea3509b1f4d0abf1302692aa22df6": {
          "model_module": "@jupyter-widgets/controls",
          "model_name": "ProgressStyleModel",
          "model_module_version": "1.5.0",
          "state": {
            "_model_module": "@jupyter-widgets/controls",
            "_model_module_version": "1.5.0",
            "_model_name": "ProgressStyleModel",
            "_view_count": null,
            "_view_module": "@jupyter-widgets/base",
            "_view_module_version": "1.2.0",
            "_view_name": "StyleView",
            "bar_color": null,
            "description_width": ""
          }
        },
        "a889d7f8c6794f01afb7c4b1331bb75b": {
          "model_module": "@jupyter-widgets/base",
          "model_name": "LayoutModel",
          "model_module_version": "1.2.0",
          "state": {
            "_model_module": "@jupyter-widgets/base",
            "_model_module_version": "1.2.0",
            "_model_name": "LayoutModel",
            "_view_count": null,
            "_view_module": "@jupyter-widgets/base",
            "_view_module_version": "1.2.0",
            "_view_name": "LayoutView",
            "align_content": null,
            "align_items": null,
            "align_self": null,
            "border": null,
            "bottom": null,
            "display": null,
            "flex": null,
            "flex_flow": null,
            "grid_area": null,
            "grid_auto_columns": null,
            "grid_auto_flow": null,
            "grid_auto_rows": null,
            "grid_column": null,
            "grid_gap": null,
            "grid_row": null,
            "grid_template_areas": null,
            "grid_template_columns": null,
            "grid_template_rows": null,
            "height": null,
            "justify_content": null,
            "justify_items": null,
            "left": null,
            "margin": null,
            "max_height": null,
            "max_width": null,
            "min_height": null,
            "min_width": null,
            "object_fit": null,
            "object_position": null,
            "order": null,
            "overflow": null,
            "overflow_x": null,
            "overflow_y": null,
            "padding": null,
            "right": null,
            "top": null,
            "visibility": null,
            "width": null
          }
        },
        "c1fe7a3dd1f04d97af4aaff1962a5c69": {
          "model_module": "@jupyter-widgets/controls",
          "model_name": "DescriptionStyleModel",
          "model_module_version": "1.5.0",
          "state": {
            "_model_module": "@jupyter-widgets/controls",
            "_model_module_version": "1.5.0",
            "_model_name": "DescriptionStyleModel",
            "_view_count": null,
            "_view_module": "@jupyter-widgets/base",
            "_view_module_version": "1.2.0",
            "_view_name": "StyleView",
            "description_width": ""
          }
        }
      }
    }
  },
  "nbformat": 4,
  "nbformat_minor": 0
}